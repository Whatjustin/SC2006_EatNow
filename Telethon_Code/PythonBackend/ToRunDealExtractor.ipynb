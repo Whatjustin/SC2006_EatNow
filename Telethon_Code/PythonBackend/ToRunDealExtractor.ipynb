{
 "cells": [
  {
   "cell_type": "code",
   "execution_count": null,
   "id": "8d1ddb97",
   "metadata": {},
   "outputs": [
    {
     "name": "stdout",
     "output_type": "stream",
     "text": [
      "Keeping Cloud up-to-date.\n",
      "\n",
      "Extractor is ready.\n",
      "\n",
      "New Message Received.\n",
      "\n",
      "Message has been updated into Cloud.\n",
      "\n"
     ]
    }
   ],
   "source": [
    "# %load DealExtractor.py\n",
    "# +\n",
    "from telethon import TelegramClient, events\n",
    "\n",
    "import Telethon\n",
    "\n",
    "import asyncio\n",
    "# -\n",
    "\n",
    "async def main():\n",
    "    session_string,api_id,api_hash,channel = Telethon.read_config()\n",
    "    client = await Telethon.create_client(session_string,api_id,api_hash)\n",
    "\n",
    "    print(\"Keeping Cloud up-to-date.\")\n",
    "    print()\n",
    "    await Telethon.update_messages_to_cloud()\n",
    "\n",
    "    await client.start()\n",
    "\n",
    "    @client.on(events.NewMessage(chats = [channel]))\n",
    "    async def handler(event):\n",
    "        print(\"New Message Received.\")\n",
    "        print()\n",
    "        try:\n",
    "            await Telethon.update_messages_to_cloud()\n",
    "            print(\"Message has been updated into Cloud.\")\n",
    "            print()\n",
    "        except:\n",
    "            print(\"Unable to update into Cloud.\")\n",
    "            print()\n",
    "            \n",
    "    print(\"Extractor is ready.\")\n",
    "    print()    \n",
    "    \n",
    "    await client.run_until_disconnected()\n",
    "\n",
    "if __name__ == \"__main__\":\n",
    "    await main()"
   ]
  },
  {
   "cell_type": "code",
   "execution_count": null,
   "id": "d3179f3f",
   "metadata": {},
   "outputs": [],
   "source": []
  },
  {
   "cell_type": "code",
   "execution_count": null,
   "id": "628b283c",
   "metadata": {},
   "outputs": [],
   "source": []
  }
 ],
 "metadata": {
  "kernelspec": {
   "display_name": "Python 3",
   "language": "python",
   "name": "python3"
  },
  "language_info": {
   "codemirror_mode": {
    "name": "ipython",
    "version": 3
   },
   "file_extension": ".py",
   "mimetype": "text/x-python",
   "name": "python",
   "nbconvert_exporter": "python",
   "pygments_lexer": "ipython3",
   "version": "3.9.4"
  }
 },
 "nbformat": 4,
 "nbformat_minor": 5
}
